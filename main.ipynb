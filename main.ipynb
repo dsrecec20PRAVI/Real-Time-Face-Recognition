{
 "cells": [
  {
   "cell_type": "code",
   "execution_count": null,
   "metadata": {},
   "outputs": [],
   "source": [
    "%pip install tf-keras pandas deepface opencv-python"
   ]
  },
  {
   "cell_type": "code",
   "execution_count": null,
   "metadata": {},
   "outputs": [],
   "source": [
    "import threading\n",
    "import cv2\n",
    "from deepface import DeepFace\n",
    "import json\n",
    "import pandas as pd"
   ]
  },
  {
   "cell_type": "code",
   "execution_count": null,
   "metadata": {},
   "outputs": [],
   "source": [
    "verstappen1=\"./image_database/Max Verstappen/max_verstappen1.jpg\"\n",
    "verstappen2=\"./image_database/Max Verstappen/max_verstappen2.jpg\"\n",
    "vdraganic=\"./image_database/Vedran Draganic/vedran_draganic.png\"\n",
    "\n",
    "models = [\n",
    "  \"VGG-Face\", \n",
    "  \"Facenet\", \n",
    "  \"Facenet512\", \n",
    "  \"OpenFace\", \n",
    "  \"DeepFace\", \n",
    "  \"DeepID\", \n",
    "  \"ArcFace\", \n",
    "  \"Dlib\", \n",
    "  \"SFace\",\n",
    "  \"GhostFaceNet\"\n",
    "]\n",
    "\n",
    "#DeepFace demo\n",
    "result = DeepFace.verify(\n",
    "  verstappen1,\n",
    "  vdraganic,\n",
    "  model_name=models[0]\n",
    ")\n",
    "print(json.dumps(result, indent=2))\n",
    "\n",
    "result = DeepFace.verify(\n",
    "  verstappen1,\n",
    "  verstappen2,\n",
    "  model_name=models[0]\n",
    ")\n",
    "print(json.dumps(result, indent=2))"
   ]
  },
  {
   "cell_type": "code",
   "execution_count": 7,
   "metadata": {},
   "outputs": [],
   "source": [
    "face_match_name = \"Unknown\"\n",
    "\n",
    "# Verify face\n",
    "def check_face(frame):\n",
    "    global face_match_name\n",
    "    try:\n",
    "        results = DeepFace.find(frame, db_path=\"./image_database\")\n",
    "\n",
    "        if isinstance(results, list) and len(results) > 0:\n",
    "            results = results[0]\n",
    "\n",
    "        if isinstance(results, pd.DataFrame) and not results.empty:\n",
    "            face_match_name = results.iloc[0]['identity'].split(\"\\\\\")[1]\n",
    "        else:\n",
    "            face_match_name = \"Unknown\"\n",
    "    except ValueError:\n",
    "        face_match_name = \"Unknown\"\n",
    "    except Exception as e:\n",
    "        print(f\"Error in check_face: {e}\")\n",
    "        face_match_name = \"Unknown\"\n"
   ]
  },
  {
   "cell_type": "code",
   "execution_count": null,
   "metadata": {},
   "outputs": [],
   "source": [
    "cap = cv2.VideoCapture(0, cv2.CAP_DSHOW)\n",
    "\n",
    "cap.set(cv2.CAP_PROP_FRAME_WIDTH, 640)\n",
    "cap.set(cv2.CAP_PROP_FRAME_HEIGHT, 480)\n",
    "\n",
    "counter = 0\n",
    "\n",
    "# Load pre-trained face detector model (Haar Cascade)\n",
    "face_cascade = cv2.CascadeClassifier(cv2.data.haarcascades + \"haarcascade_frontalface_default.xml\")\n",
    "\n",
    "while True:\n",
    "    ret, frame = cap.read()\n",
    "\n",
    "    if ret:\n",
    "        # Run face matching every 30 frames\n",
    "        if counter % 30 == 0:\n",
    "            try:\n",
    "                threading.Thread(target=check_face, args=(frame.copy(),)).start()\n",
    "            except Exception as e:\n",
    "                print(f\"Error starting thread: {e}\")\n",
    "                pass\n",
    "        counter += 1\n",
    "\n",
    "        gray_frame = cv2.cvtColor(frame, cv2.COLOR_BGR2GRAY)\n",
    "\n",
    "        faces = face_cascade.detectMultiScale(gray_frame, scaleFactor=1.1, minNeighbors=5)\n",
    "\n",
    "        for (x, y, w, h) in faces:\n",
    "            cv2.rectangle(frame, (x, y), (x + w, y + h), (255, 0, 0), 2)\n",
    "\n",
    "        cv2.putText(frame, face_match_name, (20, 450), cv2.FONT_HERSHEY_DUPLEX, 1, (255, 255, 255), 1)\n",
    "\n",
    "        cv2.imshow(\"Video\", frame)\n",
    "\n",
    "    key = cv2.waitKey(1) & 0xFF\n",
    "    if key == ord(\"q\") or key == 27: #27 is escape key\n",
    "        break\n",
    "\n",
    "    if cv2.getWindowProperty(\"Video\", cv2.WND_PROP_VISIBLE) < 1:\n",
    "        break\n",
    "\n",
    "cap.release()\n",
    "cv2.destroyAllWindows()"
   ]
  }
 ],
 "metadata": {
  "kernelspec": {
   "display_name": "Python 3",
   "language": "python",
   "name": "python3"
  },
  "language_info": {
   "codemirror_mode": {
    "name": "ipython",
    "version": 3
   },
   "file_extension": ".py",
   "mimetype": "text/x-python",
   "name": "python",
   "nbconvert_exporter": "python",
   "pygments_lexer": "ipython3",
   "version": "3.10.9"
  }
 },
 "nbformat": 4,
 "nbformat_minor": 2
}
